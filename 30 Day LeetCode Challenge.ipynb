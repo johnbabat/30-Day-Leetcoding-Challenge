{
 "cells": [
  {
   "cell_type": "markdown",
   "metadata": {},
   "source": [
    "### Day 1: Single Number\n",
    "\n",
    "Given a non-empty array of integers, every element appears twice except for one. Find that single one.\n",
    "\n",
    "Note:\n",
    "\n",
    "Your algorithm should have a linear runtime complexity. Could you implement it without using extra memory?\n",
    "\n",
    "Example 1:\n",
    "\n",
    "Input: [2,2,1]\n",
    "Output: 1\n",
    "Example 2:\n",
    "\n",
    "Input: [4,1,2,1,2]\n",
    "Output: 4"
   ]
  },
  {
   "cell_type": "code",
   "execution_count": 62,
   "metadata": {},
   "outputs": [],
   "source": [
    "class Solution:\n",
    "    def singleNumber(self, nums) -> int:\n",
    "        store = set()\n",
    "        for i in nums:\n",
    "            if i in store:\n",
    "                store.remove(i)\n",
    "            else:\n",
    "                store.add(i)\n",
    "        for i in store:\n",
    "            return(i)"
   ]
  },
  {
   "cell_type": "code",
   "execution_count": 63,
   "metadata": {},
   "outputs": [
    {
     "name": "stdout",
     "output_type": "stream",
     "text": [
      "1\n",
      "4\n"
     ]
    }
   ],
   "source": [
    "# Test Code\n",
    "\n",
    "arr1 = [2,2,1]\n",
    "arr2 = [4,1,2,1,2]\n",
    "sol = Solution()\n",
    "print(sol.singleNumber(arr1))\n",
    "print(sol.singleNumber(arr2))"
   ]
  },
  {
   "cell_type": "markdown",
   "metadata": {},
   "source": [
    "### Day 2: Happy Number\n",
    "\n",
    "Write an algorithm to determine if a number n is \"happy\".\n",
    "\n",
    "A happy number is a number defined by the following process: Starting with any positive integer, replace the number by the sum of the squares of its digits, and repeat the process until the number equals 1 (where it will stay), or it loops endlessly in a cycle which does not include 1. Those numbers for which this process ends in 1 are happy numbers.\n",
    "\n",
    "Return True if n is a happy number, and False if not.\n",
    "\n",
    "Example: \n",
    "\n",
    "Input: 19\n",
    "\n",
    "Output: true\n",
    "\n",
    "Explanation: \n",
    "\n",
    "12 + 92 = 82\n",
    "82 + 22 = 68\n",
    "62 + 82 = 100\n",
    "12 + 02 + 02 = 1"
   ]
  },
  {
   "cell_type": "code",
   "execution_count": 64,
   "metadata": {},
   "outputs": [],
   "source": [
    "class Solution:\n",
    "    def isHappy(self, n: int) -> bool:\n",
    "        \n",
    "        val = n\n",
    "        sqr = 0\n",
    "        store = set()\n",
    "        \n",
    "        while val > 0:\n",
    "            sqr += ((val%10) ** 2)\n",
    "            val = val//10\n",
    "            if val == 0:\n",
    "                if sqr == 1:\n",
    "                    return True\n",
    "                if sqr in store:\n",
    "                    return False\n",
    "                store.add(sqr)\n",
    "                val = sqr\n",
    "                sqr = 0"
   ]
  },
  {
   "cell_type": "code",
   "execution_count": 66,
   "metadata": {},
   "outputs": [
    {
     "data": {
      "text/plain": [
       "True"
      ]
     },
     "execution_count": 66,
     "metadata": {},
     "output_type": "execute_result"
    }
   ],
   "source": [
    "# Test Code\n",
    "\n",
    "sol = Solution()\n",
    "sol.isHappy(19)"
   ]
  },
  {
   "cell_type": "markdown",
   "metadata": {},
   "source": [
    "### Day 3: Maximum Subarray\n",
    "\n",
    "Given an integer array nums, find the contiguous subarray (containing at least one number) which has the largest sum and return its sum.\n",
    "\n",
    "Example:\n",
    "\n",
    "Input: [-2,1,-3,4,-1,2,1,-5,4],\n",
    "Output: 6\n",
    "Explanation: [4,-1,2,1] has the largest sum = 6.\n",
    "Follow up:\n",
    "\n",
    "If you have figured out the O(n) solution, try coding another solution using the divide and conquer approach, which is more subtle."
   ]
  },
  {
   "cell_type": "code",
   "execution_count": 22,
   "metadata": {},
   "outputs": [],
   "source": [
    "class Solution:\n",
    "    def maxSubArray(self, nums) -> int:\n",
    "\n",
    "        # Store the first index value as your max sum\n",
    "        curr_sum = nums[0]\n",
    "\n",
    "        # Set those values into your total max\n",
    "        maxsum = curr_sum\n",
    "\n",
    "        # Iterating from the second element in the list\n",
    "        for i in range(1, len(nums)):\n",
    "            # If the the value at i is greater than the current sum plus itself\n",
    "            if nums[i] > nums[i] + curr_sum:\n",
    "                # Reset the current sum current value at i\n",
    "                curr_sum = nums[i]\n",
    "            # else add the value at i to the current sum\n",
    "            else:\n",
    "                curr_sum += nums[i]\n",
    "\n",
    "            # if the current sum is greater than the maxsum, update the maxsum\n",
    "            if curr_sum > maxsum:\n",
    "                maxsum = curr_sum\n",
    "\n",
    "        return maxsum"
   ]
  },
  {
   "cell_type": "code",
   "execution_count": 23,
   "metadata": {},
   "outputs": [
    {
     "data": {
      "text/plain": [
       "6"
      ]
     },
     "execution_count": 23,
     "metadata": {},
     "output_type": "execute_result"
    }
   ],
   "source": [
    "# Test Code\n",
    "arr = [-2,1,-3,4,-1,2,1,-5,4]\n",
    "sol = Solution()\n",
    "sol.maxSubArray(arr)"
   ]
  },
  {
   "cell_type": "markdown",
   "metadata": {},
   "source": [
    "#### NOTE:\n",
    "The code above solves the question perfectly. However as an extra challenge, if the question requires to output the max sub array itself and not just the sum, it is solved below:"
   ]
  },
  {
   "cell_type": "code",
   "execution_count": 24,
   "metadata": {},
   "outputs": [],
   "source": [
    "class Solution:\n",
    "    def maxSubArray2(self, nums) -> int:\n",
    "        \n",
    "        # Store the first index value as your max sum\n",
    "        maxsum = nums[0]\n",
    "        \n",
    "        # Store the first index as your low and the second as your high\n",
    "        lowindex = 0\n",
    "        highindex = 1\n",
    "        \n",
    "        # Set those values into your total max\n",
    "        totalmax = (maxsum, lowindex, highindex)\n",
    "        \n",
    "        # Iterating from the second element in the list\n",
    "        for i in range(1, len(nums)):\n",
    "            # If the the value at i is greater than the current maxsum plus itself\n",
    "            if nums[i] > nums[i] + maxsum:\n",
    "                # Reset the maxsum and the low and high index to the current value of i\n",
    "                maxsum = nums[i]\n",
    "                lowindex = i\n",
    "                highindex = i\n",
    "            # else add the value at i and update the lowindex to that index\n",
    "            else:\n",
    "                maxsum += nums[i]\n",
    "                highindex = i\n",
    "                \n",
    "            # if the maxsum is greater than the current maxsum in totalmax\n",
    "            if maxsum > totalmax[0]:\n",
    "                # Update the maxsum and the low and high indices\n",
    "                totalmax = (maxsum, lowindex, highindex)\n",
    "                \n",
    "        \n",
    "        return nums[totalmax[1]:totalmax[2]+1]"
   ]
  },
  {
   "cell_type": "code",
   "execution_count": 25,
   "metadata": {},
   "outputs": [
    {
     "data": {
      "text/plain": [
       "[4, -1, 2, 1]"
      ]
     },
     "execution_count": 25,
     "metadata": {},
     "output_type": "execute_result"
    }
   ],
   "source": [
    "# Test Code\n",
    "arr = [-2,1,-3,4,-1,2,1,-5,4]\n",
    "sol = Solution()\n",
    "sol.maxSubArray2(arr)"
   ]
  },
  {
   "cell_type": "markdown",
   "metadata": {},
   "source": [
    "### Day 4: Move Zeroes\n",
    "\n",
    "Given an array nums, write a function to move all 0's to the end of it while maintaining the relative order of the non-zero elements.\n",
    "\n",
    "Example:\n",
    "\n",
    "Input: [0,1,0,3,12]\n",
    "Output: [1,3,12,0,0]\n",
    "Note:\n",
    "\n",
    "You must do this in-place without making a copy of the array.\n",
    "Minimize the total number of operations."
   ]
  },
  {
   "cell_type": "code",
   "execution_count": 26,
   "metadata": {},
   "outputs": [],
   "source": [
    "class Solution:\n",
    "    def moveZeroes(self, nums) -> None:\n",
    "        \"\"\"\n",
    "        Do not return anything, modify nums in-place instead.\n",
    "        \"\"\"\n",
    "        nums.sort(key = lambda x: x==0)"
   ]
  },
  {
   "cell_type": "code",
   "execution_count": 31,
   "metadata": {},
   "outputs": [
    {
     "data": {
      "text/plain": [
       "[1, 3, 12, 0, 0]"
      ]
     },
     "execution_count": 31,
     "metadata": {},
     "output_type": "execute_result"
    }
   ],
   "source": [
    "# Test Code\n",
    "arr = [0,1,0,3,12]\n",
    "sol = Solution()\n",
    "sol.moveZeroes(arr)\n",
    "arr"
   ]
  },
  {
   "cell_type": "code",
   "execution_count": null,
   "metadata": {},
   "outputs": [],
   "source": []
  },
  {
   "cell_type": "markdown",
   "metadata": {},
   "source": [
    "### Day 5: Best Time to Buy and Sell Stock II\n",
    "\n",
    "Say you have an array prices for which the ith element is the price of a given stock on day i.\n",
    "\n",
    "Design an algorithm to find the maximum profit. You may complete as many transactions as you like (i.e., buy one and sell one share of the stock multiple times).\n",
    "\n",
    "Note: You may not engage in multiple transactions at the same time (i.e., you must sell the stock before you buy again).\n",
    "\n",
    "Example 1:\n",
    "\n",
    "Input: [7,1,5,3,6,4]\n",
    "Output: 7\n",
    "Explanation: Buy on day 2 (price = 1) and sell on day 3 (price = 5), profit = 5-1 = 4.\n",
    "             Then buy on day 4 (price = 3) and sell on day 5 (price = 6), profit = 6-3 = 3.\n",
    "Example 2:\n",
    "\n",
    "Input: [1,2,3,4,5]\n",
    "Output: 4\n",
    "Explanation: Buy on day 1 (price = 1) and sell on day 5 (price = 5), profit = 5-1 = 4.\n",
    "             Note that you cannot buy on day 1, buy on day 2 and sell them later, as you are\n",
    "             engaging multiple transactions at the same time. You must sell before buying again.\n",
    "Example 3:\n",
    "\n",
    "Input: [7,6,4,3,1]\n",
    "Output: 0\n",
    "Explanation: In this case, no transaction is done, i.e. max profit = 0.\n",
    " \n",
    "\n",
    "Constraints:\n",
    "\n",
    "1 <= prices.length <= 3 * 10 ^ 4\n",
    "0 <= prices[i] <= 10 ^ 4"
   ]
  },
  {
   "cell_type": "code",
   "execution_count": 34,
   "metadata": {},
   "outputs": [],
   "source": [
    "class Solution:\n",
    "    def maxProfit(self, prices) -> int:\n",
    "        # Set initial profit to zero\n",
    "        profit = 0\n",
    "        # Iterate though the list\n",
    "        for i in range(len(prices)-1):\n",
    "            # check if the next item is greater than current\n",
    "            if prices[i+1] < prices[i]:\n",
    "                pass\n",
    "            # If it's not then add their difference to the current profit\n",
    "            else:\n",
    "                profit += (prices[i+1] - prices[i])\n",
    "        return profit"
   ]
  },
  {
   "cell_type": "code",
   "execution_count": 35,
   "metadata": {},
   "outputs": [
    {
     "data": {
      "text/plain": [
       "7"
      ]
     },
     "execution_count": 35,
     "metadata": {},
     "output_type": "execute_result"
    }
   ],
   "source": [
    "# Test Code\n",
    "arr = [7,1,5,3,6,4]\n",
    "sol = Solution()\n",
    "sol.maxProfit(arr)"
   ]
  },
  {
   "cell_type": "code",
   "execution_count": 36,
   "metadata": {},
   "outputs": [
    {
     "data": {
      "text/plain": [
       "4"
      ]
     },
     "execution_count": 36,
     "metadata": {},
     "output_type": "execute_result"
    }
   ],
   "source": [
    "# Test Code 2\n",
    "arr = [1,2,3,4,5]\n",
    "sol.maxProfit(arr)"
   ]
  },
  {
   "cell_type": "code",
   "execution_count": 37,
   "metadata": {},
   "outputs": [
    {
     "data": {
      "text/plain": [
       "0"
      ]
     },
     "execution_count": 37,
     "metadata": {},
     "output_type": "execute_result"
    }
   ],
   "source": [
    "# Test Code 3\n",
    "arr = [7,6,4,3,1]\n",
    "sol.maxProfit(arr)"
   ]
  },
  {
   "cell_type": "markdown",
   "metadata": {},
   "source": [
    "### Day 6: Group Anagrams\n",
    "\n",
    "Given an array of strings, group anagrams together.\n",
    "\n",
    "Example:\n",
    "\n",
    "Input: [\"eat\", \"tea\", \"tan\", \"ate\", \"nat\", \"bat\"],\n",
    "Output:\n",
    "[\n",
    "  [\"ate\",\"eat\",\"tea\"],\n",
    "  [\"nat\",\"tan\"],\n",
    "  [\"bat\"]\n",
    "]\n",
    "Note:\n",
    "\n",
    "All inputs will be in lowercase.\n",
    "The order of your output does not matter."
   ]
  },
  {
   "cell_type": "code",
   "execution_count": 69,
   "metadata": {},
   "outputs": [],
   "source": [
    "class Solution:\n",
    "    def groupAnagrams(self, strs):\n",
    "        store = {}\n",
    "        group = []\n",
    "        \n",
    "        for i in strs:\n",
    "            curr = sorted(i)\n",
    "            curr = ''.join(curr)\n",
    "            if curr in store:\n",
    "                store[curr].append(i)\n",
    "            else:\n",
    "                store[curr] = [i]\n",
    "            \n",
    "        for i in store.values():\n",
    "            group.append(i)\n",
    "        return group"
   ]
  },
  {
   "cell_type": "code",
   "execution_count": 70,
   "metadata": {},
   "outputs": [
    {
     "data": {
      "text/plain": [
       "[['eat', 'tea', 'ate'], ['tan', 'nat'], ['bat']]"
      ]
     },
     "execution_count": 70,
     "metadata": {},
     "output_type": "execute_result"
    }
   ],
   "source": [
    "# Test Code\n",
    "\n",
    "arr =  [\"eat\", \"tea\", \"tan\", \"ate\", \"nat\", \"bat\"]\n",
    "sol = Solution()\n",
    "sol.groupAnagrams(arr)"
   ]
  },
  {
   "cell_type": "markdown",
   "metadata": {},
   "source": [
    "### Day 7: Counting Elements\n",
    "\n",
    "Given an integer array arr, count element x such that x + 1 is also in arr.\n",
    "\n",
    "If there're duplicates in arr, count them seperately.\n",
    "\n",
    " \n",
    "\n",
    "Example 1:\n",
    "\n",
    "Input: arr = [1,2,3]\n",
    "Output: 2\n",
    "Explanation: 1 and 2 are counted cause 2 and 3 are in arr.\n",
    "Example 2:\n",
    "\n",
    "Input: arr = [1,1,3,3,5,5,7,7]\n",
    "Output: 0\n",
    "Explanation: No numbers are counted, cause there's no 2, 4, 6, or 8 in arr.\n",
    "Example 3:\n",
    "\n",
    "Input: arr = [1,3,2,3,5,0]\n",
    "Output: 3\n",
    "Explanation: 0, 1 and 2 are counted cause 1, 2 and 3 are in arr.\n",
    "Example 4:\n",
    "\n",
    "Input: arr = [1,1,2,2]\n",
    "Output: 2\n",
    "Explanation: Two 1s are counted cause 2 is in arr.\n",
    " \n",
    "\n",
    "Constraints:\n",
    "\n",
    "1 <= arr.length <= 1000\n",
    "0 <= arr[i] <= 1000"
   ]
  },
  {
   "cell_type": "code",
   "execution_count": 57,
   "metadata": {},
   "outputs": [],
   "source": [
    "class Solution:\n",
    "    def countElements(self, arr) -> int:\n",
    "        # sort the array\n",
    "        arr.sort()\n",
    "        \n",
    "        # Initialize your total and temporary count to zero\n",
    "        totalcount = 0\n",
    "        tempcount = 0\n",
    "        \n",
    "        # Iterate through the list\n",
    "        for i in range(len(arr)-1):\n",
    "            # If the value at the next index is equal to the current, increse the tempcount\n",
    "            if arr[i+1] == arr[i]:\n",
    "                tempcount += 1\n",
    "            # else if it is a digit above, increase tempcount and update total count\n",
    "            elif arr[i + 1] == arr[i] + 1:\n",
    "                tempcount += 1\n",
    "                totalcount += tempcount\n",
    "                # Set temporary count back to zero\n",
    "                tempcount = 0\n",
    "            # else set temporary count to zero\n",
    "            else:\n",
    "                tempcount = 0\n",
    "        return totalcount"
   ]
  },
  {
   "cell_type": "code",
   "execution_count": 60,
   "metadata": {},
   "outputs": [
    {
     "name": "stdout",
     "output_type": "stream",
     "text": [
      "2\n",
      "0\n",
      "3\n",
      "2\n"
     ]
    }
   ],
   "source": [
    "# Test Code\n",
    "arr1 = [1,2,3]\n",
    "arr2 = [1,1,3,5,5,7,7]\n",
    "arr3 = [1,3,2,3,5,0]\n",
    "arr4 = [1,1,2,2]\n",
    "\n",
    "sol = Solution()\n",
    "print(sol.countElements(arr1))\n",
    "print(sol.countElements(arr2))\n",
    "print(sol.countElements(arr3))\n",
    "print(sol.countElements(arr4))"
   ]
  },
  {
   "cell_type": "code",
   "execution_count": null,
   "metadata": {},
   "outputs": [],
   "source": []
  }
 ],
 "metadata": {
  "kernelspec": {
   "display_name": "Python 3",
   "language": "python",
   "name": "python3"
  },
  "language_info": {
   "codemirror_mode": {
    "name": "ipython",
    "version": 3
   },
   "file_extension": ".py",
   "mimetype": "text/x-python",
   "name": "python",
   "nbconvert_exporter": "python",
   "pygments_lexer": "ipython3",
   "version": "3.6.7"
  }
 },
 "nbformat": 4,
 "nbformat_minor": 2
}
