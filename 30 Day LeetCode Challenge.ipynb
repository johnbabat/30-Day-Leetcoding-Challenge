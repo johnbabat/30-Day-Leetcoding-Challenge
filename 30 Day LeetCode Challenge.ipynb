{
 "cells": [
  {
   "cell_type": "markdown",
   "metadata": {},
   "source": [
    "### Day 1: Single Number\n",
    "\n",
    "Given a non-empty array of integers, every element appears twice except for one. Find that single one.\n",
    "\n",
    "Note:\n",
    "\n",
    "Your algorithm should have a linear runtime complexity. Could you implement it without using extra memory?\n",
    "\n",
    "Example 1:\n",
    "\n",
    "Input: [2,2,1]\n",
    "Output: 1\n",
    "Example 2:\n",
    "\n",
    "Input: [4,1,2,1,2]\n",
    "Output: 4"
   ]
  },
  {
   "cell_type": "code",
   "execution_count": 80,
   "metadata": {},
   "outputs": [],
   "source": [
    "# Implementing without extra memory\n",
    "class Solution:\n",
    "    def singleNumber(self, nums) -> int:\n",
    "        # iterating through the array from the first index\n",
    "        for i in range(1, len(nums)):\n",
    "            # Perform the xor operation for each consecutive index\n",
    "            nums[i] ^= nums[i-1]\n",
    "        # return the only number that does not appear twice\n",
    "        return nums[-1]"
   ]
  },
  {
   "cell_type": "code",
   "execution_count": 81,
   "metadata": {},
   "outputs": [
    {
     "name": "stdout",
     "output_type": "stream",
     "text": [
      "1\n",
      "4\n"
     ]
    }
   ],
   "source": [
    "# Test Code\n",
    "\n",
    "arr1 = [2,2,1]\n",
    "arr2 = [4,1,2,1,2]\n",
    "sol = Solution()\n",
    "print(sol.singleNumber(arr1))\n",
    "print(sol.singleNumber(arr2))"
   ]
  },
  {
   "cell_type": "markdown",
   "metadata": {},
   "source": [
    "### Day 2: Happy Number\n",
    "\n",
    "Write an algorithm to determine if a number n is \"happy\".\n",
    "\n",
    "A happy number is a number defined by the following process: Starting with any positive integer, replace the number by the sum of the squares of its digits, and repeat the process until the number equals 1 (where it will stay), or it loops endlessly in a cycle which does not include 1. Those numbers for which this process ends in 1 are happy numbers.\n",
    "\n",
    "Return True if n is a happy number, and False if not.\n",
    "\n",
    "Example: \n",
    "\n",
    "Input: 19\n",
    "\n",
    "Output: true\n",
    "\n",
    "Explanation: \n",
    "\n",
    "12 + 92 = 82\n",
    "82 + 22 = 68\n",
    "62 + 82 = 100\n",
    "12 + 02 + 02 = 1"
   ]
  },
  {
   "cell_type": "code",
   "execution_count": 16,
   "metadata": {},
   "outputs": [],
   "source": [
    "class Solution:\n",
    "    def isHappy(self, n: int) -> bool:\n",
    "        sqr = 0\n",
    "        store = set()\n",
    "        \n",
    "        # while integer is greater than 0\n",
    "        while n > 0:\n",
    "            # increment the square by the square of the last digit\n",
    "            sqr += ((n%10) ** 2)\n",
    "            # let n be equal to the floor division of itself by 10\n",
    "            n = n//10\n",
    "            # if n is equal to zero\n",
    "            if n == 0:\n",
    "                # if the square is equal to 1, return True since its a happy number\n",
    "                if sqr == 1:\n",
    "                    return True\n",
    "                # if square is in store, return false since its going to be a loop\n",
    "                if sqr in store:\n",
    "                    return False\n",
    "                # add the square to the store\n",
    "                store.add(sqr)\n",
    "                n = sqr\n",
    "                sqr = 0"
   ]
  },
  {
   "cell_type": "code",
   "execution_count": 17,
   "metadata": {},
   "outputs": [
    {
     "data": {
      "text/plain": [
       "True"
      ]
     },
     "execution_count": 17,
     "metadata": {},
     "output_type": "execute_result"
    }
   ],
   "source": [
    "# Test Code\n",
    "\n",
    "sol = Solution()\n",
    "sol.isHappy(19)"
   ]
  },
  {
   "cell_type": "markdown",
   "metadata": {},
   "source": [
    "### Day 3: Maximum Subarray\n",
    "\n",
    "Given an integer array nums, find the contiguous subarray (containing at least one number) which has the largest sum and return its sum.\n",
    "\n",
    "Example:\n",
    "\n",
    "Input: [-2,1,-3,4,-1,2,1,-5,4],\n",
    "Output: 6\n",
    "Explanation: [4,-1,2,1] has the largest sum = 6.\n",
    "Follow up:\n",
    "\n",
    "If you have figured out the O(n) solution, try coding another solution using the divide and conquer approach, which is more subtle."
   ]
  },
  {
   "cell_type": "code",
   "execution_count": 22,
   "metadata": {},
   "outputs": [],
   "source": [
    "class Solution:\n",
    "    def maxSubArray(self, nums) -> int:\n",
    "\n",
    "        # Store the first index value as your max sum\n",
    "        curr_sum = nums[0]\n",
    "\n",
    "        # Set those values into your total max\n",
    "        maxsum = curr_sum\n",
    "\n",
    "        # Iterating from the second element in the list\n",
    "        for i in range(1, len(nums)):\n",
    "            # If the the value at i is greater than the current sum plus itself\n",
    "            if nums[i] > nums[i] + curr_sum:\n",
    "                # Reset the current sum current value at i\n",
    "                curr_sum = nums[i]\n",
    "            # else add the value at i to the current sum\n",
    "            else:\n",
    "                curr_sum += nums[i]\n",
    "\n",
    "            # if the current sum is greater than the maxsum, update the maxsum\n",
    "            if curr_sum > maxsum:\n",
    "                maxsum = curr_sum\n",
    "\n",
    "        return maxsum"
   ]
  },
  {
   "cell_type": "code",
   "execution_count": 23,
   "metadata": {},
   "outputs": [
    {
     "data": {
      "text/plain": [
       "6"
      ]
     },
     "execution_count": 23,
     "metadata": {},
     "output_type": "execute_result"
    }
   ],
   "source": [
    "# Test Code\n",
    "arr = [-2,1,-3,4,-1,2,1,-5,4]\n",
    "sol = Solution()\n",
    "sol.maxSubArray(arr)"
   ]
  },
  {
   "cell_type": "markdown",
   "metadata": {},
   "source": [
    "#### NOTE:\n",
    "The code above solves the question perfectly. However as an extra challenge, if the question requires to output the max sub array itself and not just the sum, it is solved below:"
   ]
  },
  {
   "cell_type": "code",
   "execution_count": 24,
   "metadata": {},
   "outputs": [],
   "source": [
    "class Solution:\n",
    "    def maxSubArray2(self, nums) -> int:\n",
    "        \n",
    "        # Store the first index value as your max sum\n",
    "        maxsum = nums[0]\n",
    "        \n",
    "        # Store the first index as your low and the second as your high\n",
    "        lowindex = 0\n",
    "        highindex = 1\n",
    "        \n",
    "        # Set those values into your total max\n",
    "        totalmax = (maxsum, lowindex, highindex)\n",
    "        \n",
    "        # Iterating from the second element in the list\n",
    "        for i in range(1, len(nums)):\n",
    "            # If the the value at i is greater than the current maxsum plus itself\n",
    "            if nums[i] > nums[i] + maxsum:\n",
    "                # Reset the maxsum and the low and high index to the current value of i\n",
    "                maxsum = nums[i]\n",
    "                lowindex = i\n",
    "                highindex = i\n",
    "            # else add the value at i and update the lowindex to that index\n",
    "            else:\n",
    "                maxsum += nums[i]\n",
    "                highindex = i\n",
    "                \n",
    "            # if the maxsum is greater than the current maxsum in totalmax\n",
    "            if maxsum > totalmax[0]:\n",
    "                # Update the maxsum and the low and high indices\n",
    "                totalmax = (maxsum, lowindex, highindex)\n",
    "                \n",
    "        \n",
    "        return nums[totalmax[1]:totalmax[2]+1]"
   ]
  },
  {
   "cell_type": "code",
   "execution_count": 25,
   "metadata": {},
   "outputs": [
    {
     "data": {
      "text/plain": [
       "[4, -1, 2, 1]"
      ]
     },
     "execution_count": 25,
     "metadata": {},
     "output_type": "execute_result"
    }
   ],
   "source": [
    "# Test Code\n",
    "arr = [-2,1,-3,4,-1,2,1,-5,4]\n",
    "sol = Solution()\n",
    "sol.maxSubArray2(arr)"
   ]
  },
  {
   "cell_type": "markdown",
   "metadata": {},
   "source": [
    "### Day 4: Move Zeroes\n",
    "\n",
    "Given an array nums, write a function to move all 0's to the end of it while maintaining the relative order of the non-zero elements.\n",
    "\n",
    "Example:\n",
    "\n",
    "Input: [0,1,0,3,12]\n",
    "Output: [1,3,12,0,0]\n",
    "Note:\n",
    "\n",
    "You must do this in-place without making a copy of the array.\n",
    "Minimize the total number of operations."
   ]
  },
  {
   "cell_type": "code",
   "execution_count": 26,
   "metadata": {},
   "outputs": [],
   "source": [
    "class Solution:\n",
    "    def moveZeroes(self, nums) -> None:\n",
    "        \"\"\"\n",
    "        Do not return anything, modify nums in-place instead.\n",
    "        \"\"\"\n",
    "        nums.sort(key = lambda x: x==0)"
   ]
  },
  {
   "cell_type": "code",
   "execution_count": 31,
   "metadata": {},
   "outputs": [
    {
     "data": {
      "text/plain": [
       "[1, 3, 12, 0, 0]"
      ]
     },
     "execution_count": 31,
     "metadata": {},
     "output_type": "execute_result"
    }
   ],
   "source": [
    "# Test Code\n",
    "arr = [0,1,0,3,12]\n",
    "sol = Solution()\n",
    "sol.moveZeroes(arr)\n",
    "arr"
   ]
  },
  {
   "cell_type": "markdown",
   "metadata": {},
   "source": [
    "### Day 5: Best Time to Buy and Sell Stock II\n",
    "\n",
    "Say you have an array prices for which the ith element is the price of a given stock on day i.\n",
    "\n",
    "Design an algorithm to find the maximum profit. You may complete as many transactions as you like (i.e., buy one and sell one share of the stock multiple times).\n",
    "\n",
    "Note: You may not engage in multiple transactions at the same time (i.e., you must sell the stock before you buy again).\n",
    "\n",
    "Example 1:\n",
    "\n",
    "Input: [7,1,5,3,6,4]\n",
    "Output: 7\n",
    "Explanation: Buy on day 2 (price = 1) and sell on day 3 (price = 5), profit = 5-1 = 4.\n",
    "             Then buy on day 4 (price = 3) and sell on day 5 (price = 6), profit = 6-3 = 3.\n",
    "Example 2:\n",
    "\n",
    "Input: [1,2,3,4,5]\n",
    "Output: 4\n",
    "Explanation: Buy on day 1 (price = 1) and sell on day 5 (price = 5), profit = 5-1 = 4.\n",
    "             Note that you cannot buy on day 1, buy on day 2 and sell them later, as you are\n",
    "             engaging multiple transactions at the same time. You must sell before buying again.\n",
    "Example 3:\n",
    "\n",
    "Input: [7,6,4,3,1]\n",
    "Output: 0\n",
    "Explanation: In this case, no transaction is done, i.e. max profit = 0.\n",
    " \n",
    "\n",
    "Constraints:\n",
    "\n",
    "1 <= prices.length <= 3 * 10 ^ 4\n",
    "0 <= prices[i] <= 10 ^ 4"
   ]
  },
  {
   "cell_type": "code",
   "execution_count": 34,
   "metadata": {},
   "outputs": [],
   "source": [
    "class Solution:\n",
    "    def maxProfit(self, prices) -> int:\n",
    "        # Set initial profit to zero\n",
    "        profit = 0\n",
    "        # Iterate though the list\n",
    "        for i in range(len(prices)-1):\n",
    "            # check if the next item is greater than current\n",
    "            if prices[i+1] < prices[i]:\n",
    "                pass\n",
    "            # If it's not then add their difference to the current profit\n",
    "            else:\n",
    "                profit += (prices[i+1] - prices[i])\n",
    "        return profit"
   ]
  },
  {
   "cell_type": "code",
   "execution_count": 35,
   "metadata": {},
   "outputs": [
    {
     "data": {
      "text/plain": [
       "7"
      ]
     },
     "execution_count": 35,
     "metadata": {},
     "output_type": "execute_result"
    }
   ],
   "source": [
    "# Test Code\n",
    "arr = [7,1,5,3,6,4]\n",
    "sol = Solution()\n",
    "sol.maxProfit(arr)"
   ]
  },
  {
   "cell_type": "code",
   "execution_count": 36,
   "metadata": {},
   "outputs": [
    {
     "data": {
      "text/plain": [
       "4"
      ]
     },
     "execution_count": 36,
     "metadata": {},
     "output_type": "execute_result"
    }
   ],
   "source": [
    "# Test Code 2\n",
    "arr = [1,2,3,4,5]\n",
    "sol.maxProfit(arr)"
   ]
  },
  {
   "cell_type": "code",
   "execution_count": 37,
   "metadata": {},
   "outputs": [
    {
     "data": {
      "text/plain": [
       "0"
      ]
     },
     "execution_count": 37,
     "metadata": {},
     "output_type": "execute_result"
    }
   ],
   "source": [
    "# Test Code 3\n",
    "arr = [7,6,4,3,1]\n",
    "sol.maxProfit(arr)"
   ]
  },
  {
   "cell_type": "markdown",
   "metadata": {},
   "source": [
    "### Day 6: Group Anagrams\n",
    "\n",
    "Given an array of strings, group anagrams together.\n",
    "\n",
    "Example:\n",
    "\n",
    "Input: [\"eat\", \"tea\", \"tan\", \"ate\", \"nat\", \"bat\"],\n",
    "Output:\n",
    "[\n",
    "  [\"ate\",\"eat\",\"tea\"],\n",
    "  [\"nat\",\"tan\"],\n",
    "  [\"bat\"]\n",
    "]\n",
    "Note:\n",
    "\n",
    "All inputs will be in lowercase.\n",
    "The order of your output does not matter."
   ]
  },
  {
   "cell_type": "code",
   "execution_count": 69,
   "metadata": {},
   "outputs": [],
   "source": [
    "class Solution:\n",
    "    def groupAnagrams(self, strs):\n",
    "        store = {}\n",
    "        group = []\n",
    "        \n",
    "        for i in strs:\n",
    "            curr = sorted(i)\n",
    "            curr = ''.join(curr)\n",
    "            if curr in store:\n",
    "                store[curr].append(i)\n",
    "            else:\n",
    "                store[curr] = [i]\n",
    "            \n",
    "        for i in store.values():\n",
    "            group.append(i)\n",
    "        return group"
   ]
  },
  {
   "cell_type": "code",
   "execution_count": 70,
   "metadata": {},
   "outputs": [
    {
     "data": {
      "text/plain": [
       "[['eat', 'tea', 'ate'], ['tan', 'nat'], ['bat']]"
      ]
     },
     "execution_count": 70,
     "metadata": {},
     "output_type": "execute_result"
    }
   ],
   "source": [
    "# Test Code\n",
    "\n",
    "arr =  [\"eat\", \"tea\", \"tan\", \"ate\", \"nat\", \"bat\"]\n",
    "sol = Solution()\n",
    "sol.groupAnagrams(arr)"
   ]
  },
  {
   "cell_type": "markdown",
   "metadata": {},
   "source": [
    "### Day 7: Counting Elements\n",
    "\n",
    "Given an integer array arr, count element x such that x + 1 is also in arr.\n",
    "\n",
    "If there're duplicates in arr, count them seperately.\n",
    "\n",
    " \n",
    "\n",
    "Example 1:\n",
    "\n",
    "Input: arr = [1,2,3]\n",
    "Output: 2\n",
    "Explanation: 1 and 2 are counted cause 2 and 3 are in arr.\n",
    "Example 2:\n",
    "\n",
    "Input: arr = [1,1,3,3,5,5,7,7]\n",
    "Output: 0\n",
    "Explanation: No numbers are counted, cause there's no 2, 4, 6, or 8 in arr.\n",
    "Example 3:\n",
    "\n",
    "Input: arr = [1,3,2,3,5,0]\n",
    "Output: 3\n",
    "Explanation: 0, 1 and 2 are counted cause 1, 2 and 3 are in arr.\n",
    "Example 4:\n",
    "\n",
    "Input: arr = [1,1,2,2]\n",
    "Output: 2\n",
    "Explanation: Two 1s are counted cause 2 is in arr.\n",
    " \n",
    "\n",
    "Constraints:\n",
    "\n",
    "1 <= arr.length <= 1000\n",
    "0 <= arr[i] <= 1000"
   ]
  },
  {
   "cell_type": "code",
   "execution_count": 71,
   "metadata": {},
   "outputs": [],
   "source": [
    "class Solution:\n",
    "    def countElements(self, arr) -> int:\n",
    "        # sort the array\n",
    "        arr.sort()\n",
    "        \n",
    "        # Initialize your total and temporary count to zero\n",
    "        totalcount = 0\n",
    "        tempcount = 0\n",
    "        \n",
    "        # Iterate through the list\n",
    "        for i in range(len(arr)-1):\n",
    "            # If the value at the next index is equal to the current, increse the tempcount\n",
    "            if arr[i+1] == arr[i]:\n",
    "                tempcount += 1\n",
    "            # else if it is a digit above, increase tempcount and update total count\n",
    "            elif arr[i + 1] == arr[i] + 1:\n",
    "                tempcount += 1\n",
    "                totalcount += tempcount\n",
    "                # Set temporary count back to zero\n",
    "                tempcount = 0\n",
    "            # else set temporary count to zero\n",
    "            else:\n",
    "                tempcount = 0\n",
    "        return totalcount"
   ]
  },
  {
   "cell_type": "code",
   "execution_count": 72,
   "metadata": {},
   "outputs": [
    {
     "data": {
      "text/plain": [
       "2"
      ]
     },
     "execution_count": 72,
     "metadata": {},
     "output_type": "execute_result"
    }
   ],
   "source": [
    "# Test Code\n",
    "arr1 = [1,2,3]\n",
    "arr2 = [1,1,3,5,5,7,7]\n",
    "arr3 = [1,3,2,3,5,0]\n",
    "arr4 = [1,1,2,2]\n",
    "\n",
    "sol = Solution()\n",
    "sol.countElements(arr1)"
   ]
  },
  {
   "cell_type": "code",
   "execution_count": 73,
   "metadata": {},
   "outputs": [
    {
     "data": {
      "text/plain": [
       "0"
      ]
     },
     "execution_count": 73,
     "metadata": {},
     "output_type": "execute_result"
    }
   ],
   "source": [
    "sol.countElements(arr2)"
   ]
  },
  {
   "cell_type": "code",
   "execution_count": 74,
   "metadata": {},
   "outputs": [
    {
     "data": {
      "text/plain": [
       "3"
      ]
     },
     "execution_count": 74,
     "metadata": {},
     "output_type": "execute_result"
    }
   ],
   "source": [
    "sol.countElements(arr3)"
   ]
  },
  {
   "cell_type": "code",
   "execution_count": 75,
   "metadata": {},
   "outputs": [
    {
     "data": {
      "text/plain": [
       "2"
      ]
     },
     "execution_count": 75,
     "metadata": {},
     "output_type": "execute_result"
    }
   ],
   "source": [
    "sol.countElements(arr4)"
   ]
  },
  {
   "cell_type": "markdown",
   "metadata": {},
   "source": [
    "### Day 8: Middle of the Linked List\n",
    "\n",
    "Given a non-empty, singly linked list with head node head, return a middle node of linked list.\n",
    "\n",
    "If there are two middle nodes, return the second middle node.\n",
    "\n",
    " \n",
    "\n",
    "Example 1:\n",
    "\n",
    "Input: [1,2,3,4,5]\n",
    "\n",
    "Output: Node 3 from this list (Serialization: [3,4,5])\n",
    "The returned node has value 3.  (The judge's serialization of this node is [3,4,5]).\n",
    "Note that we returned a ListNode object ans, such that:\n",
    "ans.val = 3, ans.next.val = 4, ans.next.next.val = 5, and ans.next.next.next = NULL.\n",
    "Example 2:\n",
    "\n",
    "Input: [1,2,3,4,5,6]\n",
    "\n",
    "Output: Node 4 from this list (Serialization: [4,5,6])\n",
    "Since the list has two middle nodes with values 3 and 4, we return the second one.\n",
    " \n",
    "\n",
    "Note:\n",
    "\n",
    "The number of nodes in the given list will be between 1 and 100."
   ]
  },
  {
   "cell_type": "code",
   "execution_count": 84,
   "metadata": {},
   "outputs": [],
   "source": [
    "class Solution:\n",
    "    def middleNode(self, head):\n",
    "        \n",
    "        # Initialize two pointers to iterate at different speeds\n",
    "        hare = head\n",
    "        tortoise = head\n",
    "        \n",
    "        # Iterate throught the list with the fatser pointer moving at the double the speed of the slower one\n",
    "        while hare.next is not None:\n",
    "            hare = hare.next.next\n",
    "            tortoise = tortoise.next\n",
    "            # If the faster pointer is None (End of the list), break\n",
    "            if hare is None:\n",
    "                break\n",
    "        # Return the slower one (middle of the list)\n",
    "        return tortoise"
   ]
  },
  {
   "cell_type": "markdown",
   "metadata": {},
   "source": [
    "### Day 9: Backspace String Compare\n",
    "\n",
    "Given two strings S and T, return if they are equal when both are typed into empty text editors. # means a backspace character.\n",
    "\n",
    "Note that after backspacing an empty text, the text will continue empty.\n",
    "\n",
    "Example 1:\n",
    "\n",
    "- Input: S = \"ab#c\", T = \"ad#c\"\n",
    "- Output: true\n",
    "- Explanation: Both S and T become \"ac\".\n",
    "\n",
    "Example 2:\n",
    "\n",
    "- Input: S = \"ab##\", T = \"c#d#\"\n",
    "- Output: true\n",
    "- Explanation: Both S and T become \"\".\n",
    "\n",
    "Example 3:\n",
    "- Input: S = \"a##c\", T = \"#a#c\n",
    "- Output: true\n",
    "- Explanation: Both S and T become \"c\".\n",
    "\n",
    "Example 4:\n",
    "- Input: S = \"a#c\", T = \"b\"\n",
    "- Output: false\n",
    "- Explanation: S becomes \"c\" while T becomes \"b\".\n",
    "\n",
    "Note:\n",
    "\n",
    "1 <= S.length <= 200\n",
    "\n",
    "1 <= T.length <= 200\n",
    "\n",
    "S and T only contain lowercase letters and '#' characters.\n",
    "\n",
    "Follow up:\n",
    "\n",
    "Can you solve it in O(N) time and O(1) space?"
   ]
  },
  {
   "cell_type": "code",
   "execution_count": null,
   "metadata": {},
   "outputs": [],
   "source": [
    "# O(N) solution and constant space\n",
    "\n",
    "class Solution:\n",
    "    def backspaceCompare(self, S: str, T: str) -> bool:\n",
    "        \n",
    "        # Initialize the length of both strings\n",
    "        len1 = len(S)\n",
    "        len2 = len(T)\n",
    "        # Create a while loop\n",
    "        while True:\n",
    "            # Recursively check the next index for a valid string value in both strings\n",
    "            len1 = self.nextstring_index(S, len1-1)\n",
    "            len2 = self.nextstring_index(T, len2-1)\n",
    "            \n",
    "            # If both strings indexes get below zero then return True\n",
    "            if len1 < 0 and len2 < 0:\n",
    "                return True\n",
    "            # If one index goes below zero and the other does not, return False\n",
    "            if (len1 < 0 and len2 >= 0) or (len1 >=0 and len2 < 0):\n",
    "                return False\n",
    "            # If any string has a different valid string value from the other, return False\n",
    "            if S[len1] != T[len2]:\n",
    "                return False\n",
    "            \n",
    "    # Function to get the next valid string      \n",
    "    def nextstring_index(self,string, i):\n",
    "        \n",
    "        # Keeping count of the number of hash (#) encountered\n",
    "        counthash = 0\n",
    "        # While the index is zero or greater\n",
    "        while i >= 0:\n",
    "            # If hash (#) is encountered increment hash count and reduce the index\n",
    "            if string[i] == \"#\":\n",
    "                counthash +=1\n",
    "                i-=1\n",
    "            # else\n",
    "            else:\n",
    "                # while counthash is greater than 0\n",
    "                while counthash > 0:\n",
    "                    # If hash is encountered increment hash count\n",
    "                    if string[i] == \"#\":\n",
    "                        counthash += 1\n",
    "                    # Decrease hash count and index\n",
    "                    counthash -=1\n",
    "                    i-=1\n",
    "                    # If i is greater than or equal to zero, check if value at i is hash(#)\n",
    "                    if i >= 0:\n",
    "                        # If it is hash(#), increment hash(#) count\n",
    "                        if string[i] == \"#\":\n",
    "                            counthash +=1\n",
    "                # If hashcount is zero return i\n",
    "                if counthash == 0:\n",
    "                    return i\n",
    "        # return i\n",
    "        return i"
   ]
  },
  {
   "cell_type": "markdown",
   "metadata": {},
   "source": [
    "### Day 10: Min Stack\n",
    "\n",
    "Design a stack that supports push, pop, top, and retrieving the minimum element in constant time.\n",
    "\n",
    "- push(x) -- Push element x onto stack.\n",
    "\n",
    "- pop() -- Removes the element on top of the stack.\n",
    "\n",
    "- top() -- Get the top element.\n",
    "\n",
    "- getMin() -- Retrieve the minimum element in the stack.\n",
    " \n",
    "\n",
    "Example:\n",
    "\n",
    "- MinStack minStack = new MinStack();\n",
    "\n",
    "- minStack.push(-2);\n",
    "\n",
    "- minStack.push(0);\n",
    "\n",
    "- minStack.push(-3);\n",
    "\n",
    "- minStack.getMin();   --> Returns -3.\n",
    "\n",
    "- minStack.pop();\n",
    "\n",
    "- minStack.top();      --> Returns 0.\n",
    "\n",
    "- minStack.getMin();   --> Returns -2."
   ]
  },
  {
   "cell_type": "code",
   "execution_count": 86,
   "metadata": {},
   "outputs": [],
   "source": [
    "class MinStack:\n",
    "\n",
    "    def __init__(self):\n",
    "        \"\"\"\n",
    "        initialize your data structure here.\n",
    "        \"\"\"\n",
    "        \n",
    "        # Initialize two lists to store the stack values and the min values\n",
    "        self.min = []\n",
    "        self.list = []\n",
    "\n",
    "    def push(self, x: int) -> None:\n",
    "        # append the value x to the list\n",
    "        self.list.append(x)\n",
    "        # if min list is not empty\n",
    "        if len(self.min) > 0:\n",
    "            # if x is less than or equal to the last item on the min list\n",
    "            if x <= self.min[-1]:\n",
    "                # append x to min list\n",
    "                self.min.append(x)\n",
    "        # else append x to min list\n",
    "        else:\n",
    "            self.min.append(x)\n",
    "        return\n",
    "\n",
    "    def pop(self) -> None:\n",
    "        # If the last element in the stack is same as the last in the min list\n",
    "        if self.list[-1] == self.min[-1]:\n",
    "            # delete the last item on min list\n",
    "            del self.min[-1]\n",
    "        # delete the last item in the stack\n",
    "        del self.list[-1]\n",
    "        return\n",
    "    \n",
    "    def top(self) -> int:\n",
    "        # retur the last item in the stack\n",
    "        return self.list[-1]\n",
    "\n",
    "    def getMin(self) -> int:\n",
    "        # return the last item in the min list\n",
    "        return self.min[-1]"
   ]
  },
  {
   "cell_type": "code",
   "execution_count": 88,
   "metadata": {},
   "outputs": [
    {
     "name": "stdout",
     "output_type": "stream",
     "text": [
      "-3 0 -2\n"
     ]
    }
   ],
   "source": [
    "# Test Code\n",
    "\n",
    "obj = MinStack()\n",
    "obj.push(-2)\n",
    "obj.push(0)\n",
    "obj.push(-3)\n",
    "min1 = obj.getMin()\n",
    "obj.pop()\n",
    "top = obj.top()\n",
    "min2 = obj.getMin()\n",
    "print(min1, top, min2)"
   ]
  },
  {
   "cell_type": "markdown",
   "metadata": {},
   "source": [
    "### Day 11: Diameter of Binary Tree\n",
    "\n",
    "Given a binary tree, you need to compute the length of the diameter of the tree. The diameter of a binary tree is the length of the longest path between any two nodes in a tree. This path may or may not pass through the root.\n",
    "\n",
    "Example:\n",
    "Given a binary tree\n"
   ]
  },
  {
   "cell_type": "code",
   "execution_count": null,
   "metadata": {},
   "outputs": [],
   "source": [
    "#       1\n",
    "#      / \\\n",
    "#     2   3\n",
    "#     / \\     \n",
    "#    4   5    "
   ]
  },
  {
   "cell_type": "markdown",
   "metadata": {},
   "source": [
    "Return 3, which is the length of the path [4,2,1,3] or [5,2,1,3].\n",
    "\n",
    "Note: The length of path between two nodes is represented by the number of edges between them."
   ]
  },
  {
   "cell_type": "code",
   "execution_count": 2,
   "metadata": {},
   "outputs": [],
   "source": [
    "class Solution:\n",
    "    def diameterOfBinaryTree(self, root) -> int:\n",
    "        # If the tree is empty return zero\n",
    "        if root is None:\n",
    "            return 0\n",
    "        # return the first value from the dfs function\n",
    "        return self.dfs(root)[0]\n",
    "        \n",
    "    # depth first search function\n",
    "    def dfs(self, node):\n",
    "        # Base case, if node is None, return a tuple of two zeros\n",
    "        if node is None:\n",
    "            return (0,0)\n",
    "        # recursively check the left branch and store in lbranch\n",
    "        lbranch = self.dfs(node.left)\n",
    "        # recursively check the right branch and store in rbranch\n",
    "        rbranch = self.dfs(node.right)\n",
    "        \n",
    "        # The diameter is the greatest value among left and right diameters and sum of left and right branch heights\n",
    "        diam = max(lbranch[1] + rbranch[1], rbranch[0], lbranch[0])\n",
    "        \n",
    "        # Return a tuple of diameter and current height\n",
    "        return (diam, max(rbranch[1], lbranch[1]) + 1)"
   ]
  },
  {
   "cell_type": "markdown",
   "metadata": {},
   "source": [
    "### Day 12: Last Stone Weight\n",
    "\n",
    "We have a collection of stones, each stone has a positive integer weight.\n",
    "\n",
    "Each turn, we choose the two heaviest stones and smash them together.  Suppose the stones have weights x and y with x <= y.  The result of this smash is:\n",
    "\n",
    "- If x == y, both stones are totally destroyed;\n",
    "- If x != y, the stone of weight x is totally destroyed, and the stone of weight y has new weight y-x.\n",
    "- At the end, there is at most 1 stone left.  Return the weight of this stone (or 0 if there are no stones left.)\n",
    "\n",
    " \n",
    "\n",
    "Example 1:\n",
    "\n",
    "Input: [2,7,4,1,8,1]\n",
    "\n",
    "Output: 1\n",
    "\n",
    "Explanation: \n",
    "- We combine 7 and 8 to get 1 so the array converts to [2,4,1,1,1] then,\n",
    "- we combine 2 and 4 to get 2 so the array converts to [2,1,1,1] then,\n",
    "- we combine 2 and 1 to get 1 so the array converts to [1,1,1] then,\n",
    "- we combine 1 and 1 to get 0 so the array converts to [1] then that's the value of last stone.\n",
    " \n",
    "\n",
    "Note:\n",
    "\n",
    "1 <= stones.length <= 30\n",
    "\n",
    "1 <= stones[i] <= 1000"
   ]
  },
  {
   "cell_type": "code",
   "execution_count": 5,
   "metadata": {},
   "outputs": [],
   "source": [
    "class Solution:\n",
    "    def lastStoneWeight(self, stones) -> int:\n",
    "        # While the list is greater than 1\n",
    "        while len(stones) > 1:\n",
    "            # Sort the stones\n",
    "            stones.sort()\n",
    "            # If the last stone is greater than the stone before\n",
    "            if stones[-1] > stones[-2]:\n",
    "                # Replace the stone before with the differenct between the last one and itself\n",
    "                stones[-2] = stones[-1] - stones[-2]\n",
    "                # pop the last stone\n",
    "                stones.pop()\n",
    "            # else pop both of them since they are equal\n",
    "            else:\n",
    "                stones.pop()\n",
    "                stones.pop()\n",
    "        # return the remaining stone if there is else return zero\n",
    "        if stones:\n",
    "            return stones[0]\n",
    "        else:\n",
    "            return 0"
   ]
  },
  {
   "cell_type": "code",
   "execution_count": 6,
   "metadata": {},
   "outputs": [
    {
     "data": {
      "text/plain": [
       "1"
      ]
     },
     "execution_count": 6,
     "metadata": {},
     "output_type": "execute_result"
    }
   ],
   "source": [
    "# Test Code\n",
    "\n",
    "inputArr = [2,7,4,1,8,1]\n",
    "sol = Solution()\n",
    "sol.lastStoneWeight(inputArr)"
   ]
  },
  {
   "cell_type": "markdown",
   "metadata": {},
   "source": [
    "### Day 13: Contiguous Array\n",
    "\n",
    "Given a binary array, find the maximum length of a contiguous subarray with equal number of 0 and 1.\n",
    "\n",
    "Example 1:\n",
    "\n",
    "Input: [0,1]\n",
    "\n",
    "Output: 2\n",
    "\n",
    "Explanation: [0, 1] is the longest contiguous subarray with equal number of 0 and 1.\n",
    "\n",
    "Example 2:\n",
    "\n",
    "Input: [0,1,0]\n",
    "\n",
    "Output: 2\n",
    "\n",
    "Explanation: [0, 1] (or [1, 0]) is a longest contiguous subarray with equal number of 0 and 1.\n",
    "\n",
    "Note: The length of the given binary array will not exceed 50,000."
   ]
  },
  {
   "cell_type": "code",
   "execution_count": 7,
   "metadata": {},
   "outputs": [],
   "source": [
    "class Solution:\n",
    "    def findMaxLength(self, nums) -> int:\n",
    "        # set count and maxlength to zero and create a dictionary with count as 0 and index -1\n",
    "        count = 0\n",
    "        store = {0:-1}\n",
    "        maxlength = 0\n",
    "        \n",
    "        # iterating through the list\n",
    "        for i in range(len(nums)):\n",
    "            # if value is 0, decrease count by 1\n",
    "            if nums[i] == 0:\n",
    "                count -=1\n",
    "            # if value is 1, increase count by 1\n",
    "            else:\n",
    "                count += 1\n",
    "            # if count is in store\n",
    "            if count in store:\n",
    "                # max length is the greater value between current max length and difference between \n",
    "                maxlength = max(maxlength, i-store[count])\n",
    "            else:\n",
    "                store[count] = i\n",
    "        return maxlength"
   ]
  },
  {
   "cell_type": "code",
   "execution_count": 8,
   "metadata": {},
   "outputs": [
    {
     "data": {
      "text/plain": [
       "2"
      ]
     },
     "execution_count": 8,
     "metadata": {},
     "output_type": "execute_result"
    }
   ],
   "source": [
    "#Test Code\n",
    "\n",
    "inputArr1 = [0,1]\n",
    "inputArr2 = [0,1,0]\n",
    "sol = Solution()\n",
    "sol.findMaxLength(inputArr1)"
   ]
  },
  {
   "cell_type": "code",
   "execution_count": 9,
   "metadata": {},
   "outputs": [
    {
     "data": {
      "text/plain": [
       "2"
      ]
     },
     "execution_count": 9,
     "metadata": {},
     "output_type": "execute_result"
    }
   ],
   "source": [
    "sol.findMaxLength(inputArr2)"
   ]
  },
  {
   "cell_type": "markdown",
   "metadata": {},
   "source": [
    "### Day 14: Perform String Shifts\n",
    "\n",
    "You are given a string s containing lowercase English letters, and a matrix shift, where shift[i] = [direction, amount]:\n",
    "\n",
    "direction can be 0 (for left shift) or 1 (for right shift). \n",
    "amount is the amount by which string s is to be shifted.\n",
    "A left shift by 1 means remove the first character of s and append it to the end.\n",
    "Similarly, a right shift by 1 means remove the last character of s and add it to the beginning.\n",
    "Return the final string after all operations.\n",
    "\n",
    " \n",
    "\n",
    "Example 1:\n",
    "\n",
    "Input: s = \"abc\", shift = [[0,1],[1,2]]\n",
    "\n",
    "Output: \"cab\"\n",
    "\n",
    "Explanation: \n",
    "- [0,1] means shift to left by 1. \"abc\" -> \"bca\"\n",
    "- [1,2] means shift to right by 2. \"bca\" -> \"cab\"\n",
    "\n",
    "Example 2:\n",
    "\n",
    "Input: s = \"abcdefg\", shift = [[1,1],[1,1],[0,2],[1,3]]\n",
    "\n",
    "Output: \"efgabcd\"\n",
    "\n",
    "Explanation:  \n",
    "- [1,1] means shift to right by 1. \"abcdefg\" -> \"gabcdef\"\n",
    "- [1,1] means shift to right by 1. \"gabcdef\" -> \"fgabcde\"\n",
    "- [0,2] means shift to left by 2. \"fgabcde\" -> \"abcdefg\"\n",
    "- [1,3] means shift to right by 3. \"abcdefg\" -> \"efgabcd\"\n",
    " \n",
    "\n",
    "Constraints:\n",
    "\n",
    "- 1 <= s.length <= 100\n",
    "- s only contains lower case English letters.\n",
    "- 1 <= shift.length <= 100\n",
    "- shift[i].length == 2\n",
    "- 0 <= shift[i][0] <= 1\n",
    "- 0 <= shift[i][1] <= 100"
   ]
  },
  {
   "cell_type": "code",
   "execution_count": 10,
   "metadata": {},
   "outputs": [],
   "source": [
    "class Solution:\n",
    "    def stringShift(self, s: str, shift) -> str:\n",
    "        \n",
    "        # Set total left and right shifts to zero\n",
    "        left = 0\n",
    "        right = 0\n",
    "        # Iterating through the shift list\n",
    "        for i in shift:\n",
    "            # If we encounter a left shift, add the value to left\n",
    "            if i[0] == 0:\n",
    "                left+=i[1]\n",
    "            # else if right, add to right\n",
    "            else:\n",
    "                right+=i[1]\n",
    "        # if left shifts are greater\n",
    "        if left > right:\n",
    "            # Find the modulos of the number of shifts and length of the string\n",
    "            idx = (left-right) % len(s)\n",
    "            # slice the string on the modulos index and rejoin it swapped\n",
    "            s = s[idx:] + s[:idx]\n",
    "        # else if rights shifts are greater or equal\n",
    "        else:\n",
    "            # Find the modulos of the number of shifts and length of the string\n",
    "            idx = (right -left) % len(s)\n",
    "            # slice the string on the modulos index and rejoin it swapped\n",
    "            s = s[-idx:] + s[:-idx]\n",
    "        # return shifted string\n",
    "        return s"
   ]
  },
  {
   "cell_type": "code",
   "execution_count": 12,
   "metadata": {},
   "outputs": [
    {
     "data": {
      "text/plain": [
       "'cab'"
      ]
     },
     "execution_count": 12,
     "metadata": {},
     "output_type": "execute_result"
    }
   ],
   "source": [
    "# Test Code\n",
    "\n",
    "#input1\n",
    "s = \"abc\"\n",
    "shift = [[0,1],[1,2]]\n",
    "\n",
    "#input2\n",
    "s2 = \"abcdefg\"\n",
    "shift2 = [[1,1],[1,1],[0,2],[1,3]]\n",
    "\n",
    "sol = Solution()\n",
    "sol.stringShift(s, shift)"
   ]
  },
  {
   "cell_type": "code",
   "execution_count": 13,
   "metadata": {},
   "outputs": [
    {
     "data": {
      "text/plain": [
       "'efgabcd'"
      ]
     },
     "execution_count": 13,
     "metadata": {},
     "output_type": "execute_result"
    }
   ],
   "source": [
    "sol.stringShift(s2, shift2)"
   ]
  },
  {
   "cell_type": "markdown",
   "metadata": {},
   "source": [
    "### Day 15: Product of Array Except Self\n",
    "\n",
    "Given an array nums of n integers where n > 1,  return an array output such that output[i] is equal to the product of all the elements of nums except nums[i].\n",
    "\n",
    "Example:\n",
    "\n",
    "Input:  [1,2,3,4]\n",
    "\n",
    "Output: [24,12,8,6]\n",
    "\n",
    "Constraint: It's guaranteed that the product of the elements of any prefix or suffix of the array (including the whole array) fits in a 32 bit integer.\n",
    "\n",
    "Note: Please solve it without division and in O(n).\n",
    "\n",
    "Follow up:\n",
    "Could you solve it with constant space complexity? (The output array does not count as extra space for the purpose of space complexity analysis.)"
   ]
  },
  {
   "cell_type": "code",
   "execution_count": 19,
   "metadata": {},
   "outputs": [],
   "source": [
    "class Solution:\n",
    "    def productExceptSelf(self, nums):\n",
    "        # Create the output array with same length of nums and same value at first index\n",
    "        output = [None] * len(nums)\n",
    "        output[0] = nums[0]\n",
    "        mul = 1\n",
    "        \n",
    "        # iterating through the length of output\n",
    "        for i in range(1,len(nums)):\n",
    "            # value at the output i is the product of value at previous output and current nums\n",
    "            output[i] = nums[i] * output[i-1]\n",
    "        \n",
    "        # Iterating the list in reverse\n",
    "        for i in range(len(nums)-1, -1, -1):\n",
    "            # set the last output index value to the previous value of nums\n",
    "            if i == len(nums)-1:\n",
    "                output[i] = output[i-1]\n",
    "            # set the first output index value to the product of mul and next nums value\n",
    "            elif i == 0:\n",
    "                output[i] = mul * nums[i+1]\n",
    "            # set the current output index to product of mul and it's previous value\n",
    "            else:\n",
    "                mul = mul * nums[i+1]\n",
    "                output[i] = output[i-1] * mul\n",
    "        return output"
   ]
  },
  {
   "cell_type": "code",
   "execution_count": 22,
   "metadata": {},
   "outputs": [
    {
     "data": {
      "text/plain": [
       "[24, 12, 8, 6]"
      ]
     },
     "execution_count": 22,
     "metadata": {},
     "output_type": "execute_result"
    }
   ],
   "source": [
    "# Test Code\n",
    "inputArr = [1,2,3,4]\n",
    "sol = Solution()\n",
    "sol.productExceptSelf(inputArr1)"
   ]
  },
  {
   "cell_type": "markdown",
   "metadata": {},
   "source": [
    "### Day 16: Valid Parenthesis String\n",
    "\n",
    "Given a string containing only three types of characters: '(', ')' and '*', write a function to check whether this string is valid. We define the validity of a string by these rules:\n",
    "\n",
    "Any left parenthesis '(' must have a corresponding right parenthesis ')'.\n",
    "\n",
    "Any right parenthesis ')' must have a corresponding left parenthesis '('.\n",
    "\n",
    "Left parenthesis '(' must go before the corresponding right parenthesis ')'.\n",
    "\n",
    "'*' could be treated as a single right parenthesis ')' or a single left parenthesis '(' or an empty string.\n",
    "An empty string is also valid.\n",
    "\n",
    "Example 1:\n",
    "- Input: \"()\"\n",
    "- Output: True\n",
    "Example 2:\n",
    "- Input: \"(*)\"\n",
    "- Output: True\n",
    "Example 3:\n",
    "- Input: \"(*))\"\n",
    "- Output: True\n",
    "\n",
    "Note:\n",
    "The string size will be in the range [1, 100]."
   ]
  },
  {
   "cell_type": "code",
   "execution_count": 23,
   "metadata": {},
   "outputs": [],
   "source": [
    "# Approach 1\n",
    "\n",
    "class Solution:\n",
    "    def checkValidString(self, s: str) -> bool:\n",
    "        \n",
    "        # Keep a stack for the open bracket as start and the star\n",
    "        left = []\n",
    "        star = []\n",
    "        # Iterating through the string\n",
    "        for i in range(len(s)):\n",
    "            # append the open bracket and it's index to left\n",
    "            if s[i] == '(':\n",
    "                left.append(('(', i))\n",
    "            # append the star and it's index to star\n",
    "            elif s[i] == '*':\n",
    "                left.append(('*', i))\n",
    "            # if value is close bracket\n",
    "            else:\n",
    "                # If left is empty\n",
    "                if len(left) == 0:\n",
    "                    # If star is empty return false\n",
    "                    if len(star) == 0:\n",
    "                        return False\n",
    "                    # else pop from star\n",
    "                    else:\n",
    "                        star.pop()\n",
    "                else:\n",
    "                    # else pop from left\n",
    "                    left.pop()\n",
    "        # while left is not empty\n",
    "        while left:\n",
    "            if not star:\n",
    "                # if star is empty return flase\n",
    "                return False\n",
    "            # if last item in left has a smaller index than right, pop both\n",
    "            if left[-1][1] < star[-1][1]:\n",
    "                star.pop()\n",
    "                left.pop()\n",
    "            # if it's greater then return false\n",
    "            else:\n",
    "                return False\n",
    "                \n",
    "        return True"
   ]
  },
  {
   "cell_type": "code",
   "execution_count": 26,
   "metadata": {},
   "outputs": [],
   "source": [
    "# Approach 2\n",
    "\n",
    "class Solution:\n",
    "    def checkValidString(self, s: str) -> bool:\n",
    "        left = 0\n",
    "        right = 0\n",
    "        \n",
    "        # terating through the string from right and left\n",
    "        for i in range(len(s)):\n",
    "            # if char at index from left is ( or * increase left else decrase\n",
    "            if s[i] in '(*':\n",
    "                left +=1\n",
    "            else:\n",
    "                left -=1\n",
    "                \n",
    "            # if char at index is from right ) or * increase right else decrase \n",
    "            if s[-(i+1)] in ')*':\n",
    "                right += 1\n",
    "            else:\n",
    "                right -=1\n",
    "                \n",
    "            #  if either left or right is less than zero, return false\n",
    "            if left < 0 or right < 0:\n",
    "                return False\n",
    "        return True"
   ]
  },
  {
   "cell_type": "code",
   "execution_count": 27,
   "metadata": {},
   "outputs": [
    {
     "data": {
      "text/plain": [
       "True"
      ]
     },
     "execution_count": 27,
     "metadata": {},
     "output_type": "execute_result"
    }
   ],
   "source": [
    "# Test Code\n",
    "\n",
    "input1 = '()'\n",
    "input2 = '(*))'\n",
    "sol = Solution()\n",
    "sol.checkValidString(input1)"
   ]
  },
  {
   "cell_type": "code",
   "execution_count": 28,
   "metadata": {},
   "outputs": [
    {
     "data": {
      "text/plain": [
       "True"
      ]
     },
     "execution_count": 28,
     "metadata": {},
     "output_type": "execute_result"
    }
   ],
   "source": [
    "sol.checkValidString(input2)"
   ]
  },
  {
   "cell_type": "code",
   "execution_count": 30,
   "metadata": {},
   "outputs": [
    {
     "data": {
      "text/plain": [
       "True"
      ]
     },
     "execution_count": 30,
     "metadata": {},
     "output_type": "execute_result"
    }
   ],
   "source": [
    "1 == True"
   ]
  },
  {
   "cell_type": "markdown",
   "metadata": {},
   "source": [
    "### Day 17: Number of Islands\n",
    "\n",
    "Given a 2d grid map of '1's (land) and '0's (water), count the number of islands. An island is surrounded by water and is formed by connecting adjacent lands horizontally or vertically. You may assume all four edges of the grid are all surrounded by water."
   ]
  },
  {
   "cell_type": "markdown",
   "metadata": {},
   "source": [
    "Example 1:\n",
    "\n",
    "Input:\n",
    "\n",
    "    1 1 1 1 0\n",
    "    1 1 0 1 0\n",
    "    1 1 0 0 0\n",
    "    0 0 0 0 0\n",
    "Output: 1"
   ]
  },
  {
   "cell_type": "markdown",
   "metadata": {},
   "source": [
    "Example 2:\n",
    "\n",
    "Input:\n",
    "    \n",
    "    1 1 0 0 0\n",
    "    1 1 0 0 0\n",
    "    0 0 1 0 0\n",
    "    0 0 0 1 1\n",
    "Output: 3"
   ]
  },
  {
   "cell_type": "code",
   "execution_count": 44,
   "metadata": {},
   "outputs": [],
   "source": [
    "class Solution:\n",
    "    def numIslands(self, grid) -> int:\n",
    "        nums = 0\n",
    "        for i in range(len(grid)):\n",
    "            for j in range(len(grid[0])):\n",
    "                if grid[i][j] == '1':\n",
    "                    nums +=1\n",
    "                    grid = self.dfs(i, j, grid)\n",
    "        return nums\n",
    "                \n",
    "    def dfs(self, i, j, grid):\n",
    "        if j == -1 or i == -1 or j == len(grid[0]) or i == len(grid):\n",
    "            return grid\n",
    "        if grid[i][j] == '1':\n",
    "            grid[i][j] = True\n",
    "        else:\n",
    "            return grid\n",
    "        self.dfs(i, j+1, grid)\n",
    "        self.dfs(i, j-1, grid)\n",
    "        self.dfs(i+1, j, grid)\n",
    "        self.dfs(i-1, j, grid)\n",
    "        return grid"
   ]
  },
  {
   "cell_type": "code",
   "execution_count": 45,
   "metadata": {},
   "outputs": [
    {
     "data": {
      "text/plain": [
       "1"
      ]
     },
     "execution_count": 45,
     "metadata": {},
     "output_type": "execute_result"
    }
   ],
   "source": [
    "# Test Code\n",
    "input1 = [['1','1','1','1','0'],\n",
    "        ['1','1','0','1','0'],\n",
    "        ['1','1','0','0','0'],\n",
    "        ['0','0','0','0','0']]\n",
    "    \n",
    "sol = Solution()\n",
    "sol.numIslands(input1)"
   ]
  },
  {
   "cell_type": "code",
   "execution_count": 48,
   "metadata": {},
   "outputs": [
    {
     "data": {
      "text/plain": [
       "3"
      ]
     },
     "execution_count": 48,
     "metadata": {},
     "output_type": "execute_result"
    }
   ],
   "source": [
    "input2 = [['1','1','0','0','0'],\n",
    "        ['1','1','0','0','0'],\n",
    "        ['0','0','1','0','0'],\n",
    "        ['0','0','0','1','1']]\n",
    "sol.numIslands(input2)"
   ]
  },
  {
   "cell_type": "markdown",
   "metadata": {},
   "source": [
    "### Day 18: Minimum Path Sum\n",
    "\n",
    "Given a m x n grid filled with non-negative numbers, find a path from top left to bottom right which minimizes the sum of all numbers along its path.\n",
    "\n",
    "Note: You can only move either down or right at any point in time.\n",
    "\n",
    "Example:\n",
    "\n",
    "Input:"
   ]
  },
  {
   "cell_type": "code",
   "execution_count": null,
   "metadata": {},
   "outputs": [],
   "source": [
    "#  [[1,3,1],\n",
    "#   [1,5,1],\n",
    "#   [4,2,1]]"
   ]
  },
  {
   "cell_type": "markdown",
   "metadata": {},
   "source": [
    "Output: 7\n",
    "\n",
    "Explanation: Because the path 1→3→1→1→1 minimizes the sum."
   ]
  },
  {
   "cell_type": "code",
   "execution_count": 49,
   "metadata": {},
   "outputs": [],
   "source": [
    "# The approach is to replace each cell with the sum of the the value of the cell and the minimum of the top and left cell.\n",
    "# The matrix would have the macimum path at the bottom right\n",
    "\n",
    "class Solution:\n",
    "    def minPathSum(self, grid) -> int:\n",
    "        # iterating through the grid\n",
    "        for i in range(len(grid)):\n",
    "            for j in range(len(grid[0])):\n",
    "                # Ignore the first item\n",
    "                if i == 0 and j == 0:\n",
    "                    pass\n",
    "                # If it as an element at the top border (i.e i = 0)\n",
    "                elif i == 0:\n",
    "                    # Replace the value there with the sum of itself and previous value on that row\n",
    "                    grid[i][j] += grid[i][j-1]\n",
    "                # else if it as an element at the left border (i.e j = 0)\n",
    "                elif j == 0:\n",
    "                    # Replace the value there with the sum of itself and previous value on that column\n",
    "                    grid[i][j] += grid[i-1][j]\n",
    "                # for other elements in the matrix\n",
    "                else:\n",
    "                     # replace their values with the sum of itself and the smaller value between the previous row and previous column\n",
    "                    grid[i][j] += min(grid[i-1][j], grid[i][j-1])\n",
    "        # Return the last item\n",
    "        return grid[-1][-1]"
   ]
  },
  {
   "cell_type": "code",
   "execution_count": 50,
   "metadata": {},
   "outputs": [
    {
     "data": {
      "text/plain": [
       "7"
      ]
     },
     "execution_count": 50,
     "metadata": {},
     "output_type": "execute_result"
    }
   ],
   "source": [
    "# Test Code\n",
    "\n",
    "inputGrid = [[1,3,1],\n",
    "              [1,5,1],\n",
    "              [4,2,1]]\n",
    "\n",
    "sol = Solution()\n",
    "sol.minPathSum(inputGrid)"
   ]
  },
  {
   "cell_type": "markdown",
   "metadata": {},
   "source": [
    "### Day 19: Search in Rotated Sorted Array\n",
    "\n",
    "Suppose an array sorted in ascending order is rotated at some pivot unknown to you beforehand.\n",
    "\n",
    "(i.e., [0,1,2,4,5,6,7] might become [4,5,6,7,0,1,2]).\n",
    "\n",
    "You are given a target value to search. If found in the array return its index, otherwise return -1.\n",
    "\n",
    "You may assume no duplicate exists in the array.\n",
    "\n",
    "Your algorithm's runtime complexity must be in the order of O(log n).\n",
    "\n",
    "Example 1:\n",
    "\n",
    "- Input: nums = [4,5,6,7,0,1,2], target = 0\n",
    "- Output: 4\n",
    "\n",
    "Example 2:\n",
    "\n",
    "- Input: nums = [4,5,6,7,0,1,2], target = 3\n",
    "- Output: -1"
   ]
  },
  {
   "cell_type": "code",
   "execution_count": null,
   "metadata": {},
   "outputs": [],
   "source": [
    "class Solution:\n",
    "    def search(self, nums: List[int], target: int) -> int:\n",
    "        high = len(nums)-1\n",
    "        low = 0\n",
    "        mid = (high + low)//2\n",
    "        \n",
    "        if not nums:\n",
    "            return -1\n",
    "        \n",
    "        while True:\n",
    "            if nums[mid] == target:\n",
    "                return mid\n",
    "            if nums[mid] > target:\n",
    "                if target < nums[low] and nums[high] < nums[low]:\n",
    "                    if nums[mid] < nums[low]:\n",
    "                        high = mid\n",
    "                    else:\n",
    "                        low = mid\n",
    "                else:\n",
    "                    high = mid\n",
    "            elif nums[mid] < target:\n",
    "                if target >= nums[low] and nums[high] < nums[low]:\n",
    "                    if nums[mid] > nums[high]:\n",
    "                        low = mid\n",
    "                    else:\n",
    "                        high = mid\n",
    "                else:\n",
    "                    low = mid\n",
    "            mid = (high + low)//2\n",
    "            \n",
    "            if high - low <= 1 and nums[low] != target:\n",
    "                if nums[high] == target:\n",
    "                    return high\n",
    "                return -1"
   ]
  },
  {
   "cell_type": "markdown",
   "metadata": {},
   "source": [
    "### Day 20: Construct Binary Search Tree from Preorder Traversal\n",
    "\n",
    "Return the root node of a binary search tree that matches the given preorder traversal.\n",
    "\n",
    "(Recall that a binary search tree is a binary tree where for every node, any descendant of node.left has a value < node.val, and any descendant of node.right has a value > node.val.  Also recall that a preorder traversal displays the value of the node first, then traverses node.left, then traverses node.right.)\n",
    "\n",
    " \n",
    "\n",
    "Example 1:\n",
    "\n",
    "- Input: [8,5,1,7,10,12]\n",
    "\n",
    "- Output: [8,5,10,1,7,null,12]\n",
    "\n",
    " \n",
    "\n",
    "Note: \n",
    "\n",
    "1 <= preorder.length <= 100\n",
    "\n",
    "The values of preorder are distinct."
   ]
  },
  {
   "cell_type": "code",
   "execution_count": 53,
   "metadata": {},
   "outputs": [],
   "source": [
    "# Definition for a binary tree node.\n",
    "# class TreeNode:\n",
    "#     def __init__(self, x):\n",
    "#         self.val = x\n",
    "#         self.left = None\n",
    "#         self.right = None\n",
    "\n",
    "class Solution:\n",
    "    def bstFromPreorder(self, preorder):\n",
    "        # If list is empty return None\n",
    "        if not preorder:\n",
    "            return None\n",
    "        # root is the first item in the tree\n",
    "        root = TreeNode(preorder[0])\n",
    "        # iterating through the rest of the list\n",
    "        for i in range(1, len(preorder)):\n",
    "            cur = root\n",
    "            # current node is not None\n",
    "            while cur is not None:\n",
    "                # if i value is greater than current node value\n",
    "                if preorder[i] > cur.val:\n",
    "                    if cur.right is None:\n",
    "                        # set node of i value to the right of current node\n",
    "                        cur.right = TreeNode(preorder[i])\n",
    "                        break\n",
    "                    else:\n",
    "                        # else keep going right\n",
    "                        cur = cur.right\n",
    "                # else if i value is less than current node value    \n",
    "                else:\n",
    "                    # if i value is less than current node value\n",
    "                    if cur.left is None:\n",
    "                        # set node of i value to the left of current node\n",
    "                        cur.left = TreeNode(preorder[i])\n",
    "                        break\n",
    "                    else:\n",
    "                        # else keep going left\n",
    "                        cur = cur.left\n",
    "\n",
    "        return root"
   ]
  },
  {
   "cell_type": "markdown",
   "metadata": {},
   "source": [
    "### Day 21: Leftmost Column with at Least a One\n",
    "\n",
    "(This problem is an interactive problem.)\n",
    "\n",
    "A binary matrix means that all elements are 0 or 1. For each individual row of the matrix, this row is sorted in non-decreasing order.\n",
    "\n",
    "Given a row-sorted binary matrix binaryMatrix, return leftmost column index(0-indexed) with at least a 1 in it. If such index doesn't exist, return -1.\n",
    "\n",
    "You can't access the Binary Matrix directly.  You may only access the matrix using a BinaryMatrix interface:\n",
    "\n",
    "BinaryMatrix.get(x, y) returns the element of the matrix at index (x, y) (0-indexed).\n",
    "\n",
    "BinaryMatrix.dimensions() returns a list of 2 elements [n, m], which means the matrix is n * m.\n",
    "\n",
    "Submissions making more than 1000 calls to BinaryMatrix.get will be judged Wrong Answer.  Also, any solutions that attempt to circumvent the judge will result in disqualification.\n",
    "\n",
    "For custom testing purposes you're given the binary matrix mat as input in the following four examples. You will not have access the binary matrix directly.\n",
    "\n",
    " \n",
    "\n",
    "Example 1:\n",
    "- Input: mat = [[0,0],[1,1]]\n",
    "- Output: 0\n",
    "\n",
    "Example 2:\n",
    "- Input: mat = [[0,0],[0,1]]\n",
    "- Output: 1\n",
    "\n",
    "Example 3:\n",
    "- Input: mat = [[0,0],[0,0]]\n",
    "- Output: -1\n",
    "\n",
    "Example 4:\n",
    "- Input: mat = [[0,0,0,1],[0,0,1,1],[0,1,1,1]]\n",
    "- Output: 1\n",
    " \n",
    "\n",
    "Constraints:\n",
    "- 1 <= mat.length, mat[i].length <= 100\n",
    "- mat[i][j] is either 0 or 1.\n",
    "- mat[i] is sorted in a non-decreasing way."
   ]
  },
  {
   "cell_type": "code",
   "execution_count": 1,
   "metadata": {},
   "outputs": [],
   "source": [
    "# \"\"\"\n",
    "# This is BinaryMatrix's API interface.\n",
    "# You should not implement it, or speculate about its implementation\n",
    "# \"\"\"\n",
    "#class BinaryMatrix(object):\n",
    "#    def get(self, x: int, y: int) -> int:\n",
    "#    def dimensions(self) -> list[]:\n",
    "\n",
    "class Solution:\n",
    "    def leftMostColumnWithOne(self, binaryMatrix) -> int:\n",
    "        # get the height and width (length) of the matrix\n",
    "        height, length = binaryMatrix.dimensions()\n",
    "        \n",
    "        # set the leftmost column as length of the matrix\n",
    "        leftmost = length\n",
    "        \n",
    "        #iterating through each row\n",
    "        for i in range(height):\n",
    "            # if the leftmost has been found to be zero, return zero since it's the minimum possible\n",
    "            if leftmost == 0:\n",
    "                return 0\n",
    "            # if the value at the right edge of the row is zero\n",
    "            if binaryMatrix.get(i, length-1) == 0:\n",
    "                # check if this is the last row and if leftmost is still equal to length\n",
    "                if (i == height-1) and leftmost == length:\n",
    "                    # return -1 since there is no 1 in the matrix\n",
    "                    return -1\n",
    "                # skip this row since it does not contain any 1\n",
    "                pass\n",
    "            # if leftmost is already less than length, check if value at leftmost index for this row is zero\n",
    "            elif leftmost < length and binaryMatrix.get(i, leftmost) == 0:\n",
    "                # since it is zero, skip this row since it 1 can't be at a lesser index\n",
    "                pass\n",
    "\n",
    "            else:\n",
    "                # set value and index to zero\n",
    "                val = 0\n",
    "                idx = 0\n",
    "                # looping through the row, while val is 0\n",
    "                while val == 0:\n",
    "                    # set val as the value at the index\n",
    "                    val = binaryMatrix.get(i, idx)\n",
    "                    # if val is 1, set left as index and break\n",
    "                    if val == 1:\n",
    "                        left = idx\n",
    "                        break\n",
    "                    # increment index and continue the loop\n",
    "                    idx +=1\n",
    "                # if left is less than leftmost, set leftmost as left\n",
    "                if left < leftmost:\n",
    "                    leftmost = left\n",
    "        return leftmost"
   ]
  },
  {
   "cell_type": "markdown",
   "metadata": {},
   "source": [
    "### Day 22: Subarray Sum Equals K\n",
    "\n",
    "Given an array of integers and an integer k, you need to find the total number of continuous subarrays whose sum equals to k.\n",
    "\n",
    "Example 1:\n",
    "- Input:nums = [1,1,1], k = 2\n",
    "- Output: 2\n",
    "\n",
    "Note:\n",
    "- The length of the array is in range [1, 20,000].\n",
    "- The range of numbers in the array is [-1000, 1000] and the range of the integer k is [-1e7, 1e7]."
   ]
  },
  {
   "cell_type": "code",
   "execution_count": 2,
   "metadata": {},
   "outputs": [],
   "source": [
    "class Solution:\n",
    "    def subarraySum(self, nums, k: int) -> int:\n",
    "        total = subsum = 0\n",
    "        # create a dictionary to store subsums and initialize it to have a sum of 0\n",
    "        store = {0:1}\n",
    "        # iterating through the list\n",
    "        for i in range(len(nums)):\n",
    "            # addign current value to subsum\n",
    "            subsum += nums[i]\n",
    "            diff = subsum - k\n",
    "            # check if difference between current subsum and k is in the dictionary\n",
    "            if diff in store:\n",
    "                # if it is add the number of times it occurs to the total\n",
    "                total += store[diff]\n",
    "            # Increment the number of times subsum appears in the dictionary if it's there\n",
    "            if subsum in store:\n",
    "                store[subsum] += 1\n",
    "            # If it's not there yet, add it to the dictionary\n",
    "            else:\n",
    "                store[subsum] = 1\n",
    "        return total"
   ]
  },
  {
   "cell_type": "code",
   "execution_count": 3,
   "metadata": {},
   "outputs": [
    {
     "data": {
      "text/plain": [
       "2"
      ]
     },
     "execution_count": 3,
     "metadata": {},
     "output_type": "execute_result"
    }
   ],
   "source": [
    "# Test Code\n",
    "inputArr = [1,1,1]\n",
    "k = 2\n",
    "\n",
    "sol = Solution()\n",
    "sol.subarraySum(inputArr, k)"
   ]
  },
  {
   "cell_type": "markdown",
   "metadata": {},
   "source": [
    "### Day 23: Bitwise AND of Numbers Range\n",
    "\n",
    "Given a range [m, n] where 0 <= m <= n <= 2147483647, return the bitwise AND of all numbers in this range, inclusive.\n",
    "\n",
    "Example 1:\n",
    "\n",
    "Input: [5,7]\n",
    "Output: 4\n",
    "Example 2:\n",
    "\n",
    "Input: [0,1]\n",
    "Output: 0"
   ]
  },
  {
   "cell_type": "code",
   "execution_count": 1,
   "metadata": {},
   "outputs": [],
   "source": [
    "class Solution:\n",
    "    def rangeBitwiseAnd(self, m: int, n: int) -> int:\n",
    "        # Anytime you reach a bit that is a power of two, all bits except the MSB become zero...\n",
    "        # therefore AND operations from previous numbers become zero\n",
    "        if n/2 > m:\n",
    "            return 0\n",
    "        # else iterate through the range and find the AND of each item\n",
    "        for i in range(m+1,n+1):\n",
    "            m &= i\n",
    "        return m"
   ]
  },
  {
   "cell_type": "code",
   "execution_count": 4,
   "metadata": {},
   "outputs": [
    {
     "data": {
      "text/plain": [
       "4"
      ]
     },
     "execution_count": 4,
     "metadata": {},
     "output_type": "execute_result"
    }
   ],
   "source": [
    "# Test Code\n",
    "\n",
    "m1 = 5\n",
    "n1 = 7\n",
    "m2 = 0\n",
    "n2 = 1\n",
    "\n",
    "sol = Solution()\n",
    "sol.rangeBitwiseAnd(m1, n1)"
   ]
  },
  {
   "cell_type": "code",
   "execution_count": 5,
   "metadata": {},
   "outputs": [
    {
     "data": {
      "text/plain": [
       "0"
      ]
     },
     "execution_count": 5,
     "metadata": {},
     "output_type": "execute_result"
    }
   ],
   "source": [
    "sol.rangeBitwiseAnd(m2, n2)"
   ]
  },
  {
   "cell_type": "code",
   "execution_count": null,
   "metadata": {},
   "outputs": [],
   "source": []
  }
 ],
 "metadata": {
  "kernelspec": {
   "display_name": "Python 3",
   "language": "python",
   "name": "python3"
  },
  "language_info": {
   "codemirror_mode": {
    "name": "ipython",
    "version": 3
   },
   "file_extension": ".py",
   "mimetype": "text/x-python",
   "name": "python",
   "nbconvert_exporter": "python",
   "pygments_lexer": "ipython3",
   "version": "3.6.7"
  }
 },
 "nbformat": 4,
 "nbformat_minor": 2
}
